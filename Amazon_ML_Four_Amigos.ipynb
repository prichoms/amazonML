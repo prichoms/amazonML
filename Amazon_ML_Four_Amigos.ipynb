{
  "nbformat": 4,
  "nbformat_minor": 0,
  "metadata": {
    "colab": {
      "name": "Amazon_ML_Four_Amigos.ipynb",
      "provenance": [],
      "collapsed_sections": [
        "oFvNj5_caKLh",
        "v27tDNrUaN9w",
        "5kU_WfARa8xL",
        "MhYaJGDSD_j1",
        "yXDM89KbeUqN"
      ]
    },
    "kernelspec": {
      "name": "python3",
      "display_name": "Python 3"
    },
    "language_info": {
      "name": "python"
    }
  },
  "cells": [
    {
      "cell_type": "markdown",
      "metadata": {
        "id": "_Yr3sWeraAMM"
      },
      "source": [
        "## 1. Importing the Necessary Libraries/Modules"
      ]
    },
    {
      "cell_type": "code",
      "metadata": {
        "id": "fo9aiv8arspW",
        "colab": {
          "base_uri": "https://localhost:8080/"
        },
        "outputId": "4082a4f1-37bb-4067-962d-7ee7e829743d"
      },
      "source": [
        "import pandas as pd\n",
        "import numpy as np\n",
        "import os\n",
        "import matplotlib.pyplot as plt\n",
        "import seaborn as sns\n",
        "import scipy.stats as st\n",
        "import csv\n",
        "from collections import Counter\n",
        "from tqdm._tqdm_notebook import tqdm_notebook as tqdm\n",
        "import re\n",
        "import nltk\n",
        "nltk.download('stopwords')\n",
        "from nltk.corpus import stopwords\n",
        "from nltk.stem import PorterStemmer\n",
        "from sklearn.preprocessing import MultiLabelBinarizer\n",
        "import operator \n",
        "from collections import defaultdict\n",
        "import string\n",
        "from nltk.tokenize.treebank import TreebankWordTokenizer"
      ],
      "execution_count": null,
      "outputs": [
        {
          "output_type": "stream",
          "text": [
            "[nltk_data] Downloading package stopwords to /root/nltk_data...\n",
            "[nltk_data]   Package stopwords is already up-to-date!\n"
          ],
          "name": "stdout"
        }
      ]
    },
    {
      "cell_type": "code",
      "metadata": {
        "id": "S5QT-yWXb3kH"
      },
      "source": [
        ""
      ],
      "execution_count": null,
      "outputs": []
    },
    {
      "cell_type": "code",
      "metadata": {
        "colab": {
          "base_uri": "https://localhost:8080/"
        },
        "id": "APsRLy5MsuX5",
        "outputId": "e3213a39-4671-4bed-c742-a77935d7141a"
      },
      "source": [
        "from google.colab import drive\n",
        "drive.mount('/content/drive')"
      ],
      "execution_count": null,
      "outputs": [
        {
          "output_type": "stream",
          "text": [
            "Drive already mounted at /content/drive; to attempt to forcibly remount, call drive.mount(\"/content/drive\", force_remount=True).\n"
          ],
          "name": "stdout"
        }
      ]
    },
    {
      "cell_type": "code",
      "metadata": {
        "id": "qcIRexwdswji"
      },
      "source": [
        "main_folder_path = \"/content/drive/My Drive/dataset\""
      ],
      "execution_count": null,
      "outputs": []
    },
    {
      "cell_type": "markdown",
      "metadata": {
        "id": "oFvNj5_caKLh"
      },
      "source": [
        "## 2. Loading the Dataset"
      ]
    },
    {
      "cell_type": "code",
      "metadata": {
        "id": "6SGzO7hV28gi"
      },
      "source": [
        "df = pd.read_csv(os.path.join(main_folder_path,\"train.csv\"), encoding='utf-8',error_bad_lines=False, escapechar=\"\\\\\", quoting=csv.QUOTE_NONE)"
      ],
      "execution_count": null,
      "outputs": []
    },
    {
      "cell_type": "markdown",
      "metadata": {
        "id": "v27tDNrUaN9w"
      },
      "source": [
        "## 3. Exploratory Data Analysis (EDTA)"
      ]
    },
    {
      "cell_type": "code",
      "metadata": {
        "id": "Blk6eQCI6ukw",
        "colab": {
          "base_uri": "https://localhost:8080/",
          "height": 1000
        },
        "outputId": "ce8088e9-6997-4ca5-f693-fa31ce7b1e6e"
      },
      "source": [
        "df.head(30)"
      ],
      "execution_count": null,
      "outputs": [
        {
          "output_type": "execute_result",
          "data": {
            "text/html": [
              "<div>\n",
              "<style scoped>\n",
              "    .dataframe tbody tr th:only-of-type {\n",
              "        vertical-align: middle;\n",
              "    }\n",
              "\n",
              "    .dataframe tbody tr th {\n",
              "        vertical-align: top;\n",
              "    }\n",
              "\n",
              "    .dataframe thead th {\n",
              "        text-align: right;\n",
              "    }\n",
              "</style>\n",
              "<table border=\"1\" class=\"dataframe\">\n",
              "  <thead>\n",
              "    <tr style=\"text-align: right;\">\n",
              "      <th></th>\n",
              "      <th>TITLE</th>\n",
              "      <th>DESCRIPTION</th>\n",
              "      <th>BULLET_POINTS</th>\n",
              "      <th>BRAND</th>\n",
              "      <th>BROWSE_NODE_ID</th>\n",
              "    </tr>\n",
              "  </thead>\n",
              "  <tbody>\n",
              "    <tr>\n",
              "      <th>0</th>\n",
              "      <td>Pete The Cat Bedtime Blues Doll, 14.5 Inch</td>\n",
              "      <td>Pete the Cat is the coolest, most popular cat ...</td>\n",
              "      <td>[Pete the Cat Bedtime Blues plush doll,Based o...</td>\n",
              "      <td>MerryMakers</td>\n",
              "      <td>0</td>\n",
              "    </tr>\n",
              "    <tr>\n",
              "      <th>1</th>\n",
              "      <td>The New Yorker NYHM014 Refrigerator Magnet, 2 ...</td>\n",
              "      <td>The New Yorker Handsome Cello Wrapped Hard Mag...</td>\n",
              "      <td>[Cat In A Tea Cup by New Yorker cover artist G...</td>\n",
              "      <td>The New Yorker</td>\n",
              "      <td>1</td>\n",
              "    </tr>\n",
              "    <tr>\n",
              "      <th>2</th>\n",
              "      <td>The Ultimate Self-Sufficiency Handbook: A Comp...</td>\n",
              "      <td>NaN</td>\n",
              "      <td>Skyhorse Publishing</td>\n",
              "      <td>imusti</td>\n",
              "      <td>2</td>\n",
              "    </tr>\n",
              "    <tr>\n",
              "      <th>3</th>\n",
              "      <td>Amway Nutrilite Kids Chewable Iron Tablets (100)</td>\n",
              "      <td>NaN</td>\n",
              "      <td>[Nutrilite Kids,Chewable Iron Tablets,Quantity...</td>\n",
              "      <td>Amway</td>\n",
              "      <td>3</td>\n",
              "    </tr>\n",
              "    <tr>\n",
              "      <th>4</th>\n",
              "      <td>Teacher Planner Company A4 6 Lesson Academic T...</td>\n",
              "      <td>NaN</td>\n",
              "      <td>NaN</td>\n",
              "      <td>NaN</td>\n",
              "      <td>4</td>\n",
              "    </tr>\n",
              "    <tr>\n",
              "      <th>5</th>\n",
              "      <td>Men'S Full Sleeve Raglan T-Shirts Denim T-Shir...</td>\n",
              "      <td>Men'S Full Sleeve Raglan T-Shirts Denim T-Shir...</td>\n",
              "      <td>[Color: Blue,Sleeve: Full Sleeve,Material: Cot...</td>\n",
              "      <td>Bhavya Enterprise</td>\n",
              "      <td>5</td>\n",
              "    </tr>\n",
              "    <tr>\n",
              "      <th>6</th>\n",
              "      <td>Glance Women's Wallet (Black) (LW-21)</td>\n",
              "      <td>This Black wallet by Glance will be a treasure...</td>\n",
              "      <td>[The Most Comfortable Women's Wallet That You ...</td>\n",
              "      <td>Glance</td>\n",
              "      <td>6</td>\n",
              "    </tr>\n",
              "    <tr>\n",
              "      <th>7</th>\n",
              "      <td>Wild Animals Hungry Brain Educational Flash Ca...</td>\n",
              "      <td>Wild Animals are the animals that mostly stays...</td>\n",
              "      <td>[Playful learning: Flash cards develops the lo...</td>\n",
              "      <td>hungry brain</td>\n",
              "      <td>7</td>\n",
              "    </tr>\n",
              "    <tr>\n",
              "      <th>8</th>\n",
              "      <td>Hindi Barakhadi Educational Flash Cards for Ki...</td>\n",
              "      <td>Hindi vowel signs and sounds are very importan...</td>\n",
              "      <td>[Playful learning: Flash cards develops the lo...</td>\n",
              "      <td>hungry brain</td>\n",
              "      <td>7</td>\n",
              "    </tr>\n",
              "    <tr>\n",
              "      <th>9</th>\n",
              "      <td>Chapin 1380 Premier Pro 3-Gallon Tri-Poxy Stee...</td>\n",
              "      <td>Chapin 1380 Premier Pro 3-Gallon Tri-Poxy Stee...</td>\n",
              "      <td>NaN</td>\n",
              "      <td>Chapin International</td>\n",
              "      <td>9</td>\n",
              "    </tr>\n",
              "    <tr>\n",
              "      <th>10</th>\n",
              "      <td>Slo-Niacin Polygel Controlled-Release Niacin, ...</td>\n",
              "      <td>NaN</td>\n",
              "      <td>NaN</td>\n",
              "      <td>NaN</td>\n",
              "      <td>10</td>\n",
              "    </tr>\n",
              "    <tr>\n",
              "      <th>11</th>\n",
              "      <td>White : Braun KF400-WH Aromaster 10-Cup Coffee...</td>\n",
              "      <td>Color:White Product description 10 Cup Carafe ...</td>\n",
              "      <td>[Water-dispersal system provides fast, uniform...</td>\n",
              "      <td>Braun</td>\n",
              "      <td>11</td>\n",
              "    </tr>\n",
              "    <tr>\n",
              "      <th>12</th>\n",
              "      <td>Yamaha PCMSKIT Portable Electronic Keyboard Ad...</td>\n",
              "      <td>NaN</td>\n",
              "      <td>[Software teaches you how to play, read music,...</td>\n",
              "      <td>YAMAHA</td>\n",
              "      <td>12</td>\n",
              "    </tr>\n",
              "    <tr>\n",
              "      <th>13</th>\n",
              "      <td>Microsoft Sidewinder Gamepad Pro</td>\n",
              "      <td>NaN</td>\n",
              "      <td>Dual-function D-Pad for comfortable control - ...</td>\n",
              "      <td>Microsoft</td>\n",
              "      <td>13</td>\n",
              "    </tr>\n",
              "    <tr>\n",
              "      <th>14</th>\n",
              "      <td>Jiffy Steamer with Plastic Steam Head (Beige, ...</td>\n",
              "      <td>Jiffy J-2000 clothes steamer, 1300 watts, with...</td>\n",
              "      <td>[1300 watt solid brass heating element (120 vo...</td>\n",
              "      <td>Jiffy</td>\n",
              "      <td>14</td>\n",
              "    </tr>\n",
              "    <tr>\n",
              "      <th>15</th>\n",
              "      <td>YASHICA Open Box OPTICAL OPTICAL Zoomate 140 3...</td>\n",
              "      <td>NaN</td>\n",
              "      <td>[A precise and fast zoom lens for sharpness an...</td>\n",
              "      <td>NaN</td>\n",
              "      <td>15</td>\n",
              "    </tr>\n",
              "    <tr>\n",
              "      <th>16</th>\n",
              "      <td>OXO Good Grips BPA-Free Turkey Baster with Cle...</td>\n",
              "      <td>&lt;b&gt;OXO Good Grips Turkey Baster&lt;/b&gt;&lt;br&gt;&lt;br&gt;&lt;ul...</td>\n",
              "      <td>[Unique bulb shape and collar for two comforta...</td>\n",
              "      <td>OXO</td>\n",
              "      <td>16</td>\n",
              "    </tr>\n",
              "    <tr>\n",
              "      <th>17</th>\n",
              "      <td>Sony VAIO RoomLink Network Media Receiver (PCN...</td>\n",
              "      <td>NaN</td>\n",
              "      <td>[Use RoomLInk media receiver to Record Live TV...</td>\n",
              "      <td>Sony</td>\n",
              "      <td>17</td>\n",
              "    </tr>\n",
              "    <tr>\n",
              "      <th>18</th>\n",
              "      <td>Westcott 5684 5 x 6 Feet Collapsible Backdrop ...</td>\n",
              "      <td>Westcott offers many styles and colors of qual...</td>\n",
              "      <td>[Effortlessly opens and collapses in seconds,B...</td>\n",
              "      <td>Westcott</td>\n",
              "      <td>18</td>\n",
              "    </tr>\n",
              "    <tr>\n",
              "      <th>19</th>\n",
              "      <td>InterDesign 14 by 9 by 5-Inch Basic Basket, Me...</td>\n",
              "      <td>Plastic basket with chrome handle. You can sto...</td>\n",
              "      <td>[Made of extra durable translucent plastic,Chr...</td>\n",
              "      <td>InterDesign</td>\n",
              "      <td>19</td>\n",
              "    </tr>\n",
              "    <tr>\n",
              "      <th>20</th>\n",
              "      <td>Woodard &amp; Charles 6.5-Inch Individual Salad Bowl</td>\n",
              "      <td>The natural look of wood or the polished look ...</td>\n",
              "      <td>[Material: Natural Finish Wood,Size/Capacity: ...</td>\n",
              "      <td>Woodard &amp; Charles</td>\n",
              "      <td>20</td>\n",
              "    </tr>\n",
              "    <tr>\n",
              "      <th>21</th>\n",
              "      <td>Meco Swinger Charcoal Grill, Black</td>\n",
              "      <td>Color:Black Meco Swinger charcoal grills are e...</td>\n",
              "      <td>[332 square inches of cooking surface,Six-posi...</td>\n",
              "      <td>Americana</td>\n",
              "      <td>21</td>\n",
              "    </tr>\n",
              "    <tr>\n",
              "      <th>22</th>\n",
              "      <td>Crystal 3 Blue Ring Pool, 3-Ring, 66\" X 16\"</td>\n",
              "      <td>NaN</td>\n",
              "      <td>? Made from soft inflatable floor which is saf...</td>\n",
              "      <td>Intex</td>\n",
              "      <td>22</td>\n",
              "    </tr>\n",
              "    <tr>\n",
              "      <th>23</th>\n",
              "      <td>Oscar Pour Lui By Oscar De La Renta Edt Spray ...</td>\n",
              "      <td>Oscar Pour Lui by Oscar De La Renta for Men - ...</td>\n",
              "      <td>Oscar Pour Lui by Oscar De La Renta for Men - ...</td>\n",
              "      <td>Oscar</td>\n",
              "      <td>23</td>\n",
              "    </tr>\n",
              "    <tr>\n",
              "      <th>24</th>\n",
              "      <td>Farberware FPHM600 Hand Mixer</td>\n",
              "      <td>Admiring the slick chrome finish on this hand ...</td>\n",
              "      <td>[6 Speed Hand Mixer,Wire Beaters,Dough Hooks,B...</td>\n",
              "      <td>Farberware</td>\n",
              "      <td>24</td>\n",
              "    </tr>\n",
              "    <tr>\n",
              "      <th>25</th>\n",
              "      <td>3M(TM) Positionable Mounting Adhesive 568, 24 ...</td>\n",
              "      <td>NaN</td>\n",
              "      <td>[Clean, dry, long-lasting, odorless adhesive,A...</td>\n",
              "      <td>3M</td>\n",
              "      <td>25</td>\n",
              "    </tr>\n",
              "    <tr>\n",
              "      <th>26</th>\n",
              "      <td>Zojirushi RDS-600 6-Liter Thermal Rice Warmer,...</td>\n",
              "      <td>Zojirushi's RDS-600 Thermal Rice Warmer keeps ...</td>\n",
              "      <td>[6-Liter non-electric thermal rice warmer made...</td>\n",
              "      <td>ZOJIRUSHI</td>\n",
              "      <td>26</td>\n",
              "    </tr>\n",
              "    <tr>\n",
              "      <th>27</th>\n",
              "      <td>ALL GLASS AQUARIUM Pine Cabinet 24\" Oak</td>\n",
              "      <td>These quality pine stands and canopies are con...</td>\n",
              "      <td>NaN</td>\n",
              "      <td>NaN</td>\n",
              "      <td>27</td>\n",
              "    </tr>\n",
              "    <tr>\n",
              "      <th>28</th>\n",
              "      <td>Sabian 16 Inch HHX Studio Crash</td>\n",
              "      <td>16\" STUDIO CRASH HHX</td>\n",
              "      <td>[A Killer Crash from SABIAN,HHX Tone Projectio...</td>\n",
              "      <td>Sabian</td>\n",
              "      <td>28</td>\n",
              "    </tr>\n",
              "    <tr>\n",
              "      <th>29</th>\n",
              "      <td>Sabian 11892XN 18-inch HHX X-TREME Crash (Golden)</td>\n",
              "      <td>18\" HHXTREME CRASH</td>\n",
              "      <td>[A Killer Crash from Sabian,HHX Tone Projectio...</td>\n",
              "      <td>Sabian</td>\n",
              "      <td>28</td>\n",
              "    </tr>\n",
              "  </tbody>\n",
              "</table>\n",
              "</div>"
            ],
            "text/plain": [
              "                                                TITLE  ... BROWSE_NODE_ID\n",
              "0          Pete The Cat Bedtime Blues Doll, 14.5 Inch  ...              0\n",
              "1   The New Yorker NYHM014 Refrigerator Magnet, 2 ...  ...              1\n",
              "2   The Ultimate Self-Sufficiency Handbook: A Comp...  ...              2\n",
              "3    Amway Nutrilite Kids Chewable Iron Tablets (100)  ...              3\n",
              "4   Teacher Planner Company A4 6 Lesson Academic T...  ...              4\n",
              "5   Men'S Full Sleeve Raglan T-Shirts Denim T-Shir...  ...              5\n",
              "6               Glance Women's Wallet (Black) (LW-21)  ...              6\n",
              "7   Wild Animals Hungry Brain Educational Flash Ca...  ...              7\n",
              "8   Hindi Barakhadi Educational Flash Cards for Ki...  ...              7\n",
              "9   Chapin 1380 Premier Pro 3-Gallon Tri-Poxy Stee...  ...              9\n",
              "10  Slo-Niacin Polygel Controlled-Release Niacin, ...  ...             10\n",
              "11  White : Braun KF400-WH Aromaster 10-Cup Coffee...  ...             11\n",
              "12  Yamaha PCMSKIT Portable Electronic Keyboard Ad...  ...             12\n",
              "13                   Microsoft Sidewinder Gamepad Pro  ...             13\n",
              "14  Jiffy Steamer with Plastic Steam Head (Beige, ...  ...             14\n",
              "15  YASHICA Open Box OPTICAL OPTICAL Zoomate 140 3...  ...             15\n",
              "16  OXO Good Grips BPA-Free Turkey Baster with Cle...  ...             16\n",
              "17  Sony VAIO RoomLink Network Media Receiver (PCN...  ...             17\n",
              "18  Westcott 5684 5 x 6 Feet Collapsible Backdrop ...  ...             18\n",
              "19  InterDesign 14 by 9 by 5-Inch Basic Basket, Me...  ...             19\n",
              "20   Woodard & Charles 6.5-Inch Individual Salad Bowl  ...             20\n",
              "21                 Meco Swinger Charcoal Grill, Black  ...             21\n",
              "22        Crystal 3 Blue Ring Pool, 3-Ring, 66\" X 16\"  ...             22\n",
              "23  Oscar Pour Lui By Oscar De La Renta Edt Spray ...  ...             23\n",
              "24                      Farberware FPHM600 Hand Mixer  ...             24\n",
              "25  3M(TM) Positionable Mounting Adhesive 568, 24 ...  ...             25\n",
              "26  Zojirushi RDS-600 6-Liter Thermal Rice Warmer,...  ...             26\n",
              "27            ALL GLASS AQUARIUM Pine Cabinet 24\" Oak  ...             27\n",
              "28                    Sabian 16 Inch HHX Studio Crash  ...             28\n",
              "29  Sabian 11892XN 18-inch HHX X-TREME Crash (Golden)  ...             28\n",
              "\n",
              "[30 rows x 5 columns]"
            ]
          },
          "metadata": {
            "tags": []
          },
          "execution_count": 6
        }
      ]
    },
    {
      "cell_type": "code",
      "metadata": {
        "id": "mzb4emoeW9Zj"
      },
      "source": [
        "len(df['BRAND'].unique())"
      ],
      "execution_count": null,
      "outputs": []
    },
    {
      "cell_type": "code",
      "metadata": {
        "id": "c-ynCNl0ar-R"
      },
      "source": [
        "df.shape"
      ],
      "execution_count": null,
      "outputs": []
    },
    {
      "cell_type": "code",
      "metadata": {
        "id": "cJJEmji_MdyS"
      },
      "source": [
        "df.info()"
      ],
      "execution_count": null,
      "outputs": []
    },
    {
      "cell_type": "code",
      "metadata": {
        "id": "9L5n3nlkayeo"
      },
      "source": [
        "df.describe()"
      ],
      "execution_count": null,
      "outputs": []
    },
    {
      "cell_type": "code",
      "metadata": {
        "id": "hH5xhgZWMepD"
      },
      "source": [
        "len(df.index)-df.count()"
      ],
      "execution_count": null,
      "outputs": []
    },
    {
      "cell_type": "code",
      "metadata": {
        "id": "XLVhGo29Xa1V"
      },
      "source": [
        "df.mode()"
      ],
      "execution_count": null,
      "outputs": []
    },
    {
      "cell_type": "code",
      "metadata": {
        "id": "_aDVDopEbvdH"
      },
      "source": [
        "df.hist(bins=50, figsize=(20, 15))"
      ],
      "execution_count": null,
      "outputs": []
    },
    {
      "cell_type": "code",
      "metadata": {
        "id": "GDmekTD0b3KJ"
      },
      "source": [
        "plt.figure(figsize=(15,15))\n",
        "p=sns.heatmap(df.corr(), annot=True,cmap='RdYlGn',center=0)"
      ],
      "execution_count": null,
      "outputs": []
    },
    {
      "cell_type": "markdown",
      "metadata": {
        "id": "5kU_WfARa8xL"
      },
      "source": [
        "## 4. Data Pre-processing"
      ]
    },
    {
      "cell_type": "code",
      "metadata": {
        "id": "bFrrNcTEXmvv"
      },
      "source": [
        "df[df[\"BROWSE_NODE_ID\"]==1045]"
      ],
      "execution_count": null,
      "outputs": []
    },
    {
      "cell_type": "code",
      "metadata": {
        "id": "fzENEOIbX5lx"
      },
      "source": [
        "df1 = df[df['TITLE'].notna()]\n",
        "len(df1.index)-df1.count()"
      ],
      "execution_count": null,
      "outputs": []
    },
    {
      "cell_type": "code",
      "metadata": {
        "id": "XxUwWDpR0AGs"
      },
      "source": [
        ""
      ],
      "execution_count": null,
      "outputs": []
    },
    {
      "cell_type": "code",
      "metadata": {
        "id": "WNeEafkmY2K5"
      },
      "source": [
        "df.isnull().any()"
      ],
      "execution_count": null,
      "outputs": []
    },
    {
      "cell_type": "code",
      "metadata": {
        "id": "g49bdkuRbDOI"
      },
      "source": [
        "feature=df.drop('BROWSE_NODE_ID',1)\n",
        "feature"
      ],
      "execution_count": null,
      "outputs": []
    },
    {
      "cell_type": "code",
      "metadata": {
        "id": "0s8PEyB0bROY"
      },
      "source": [
        "target=df['BROWSE_NODE_ID']\n",
        "target"
      ],
      "execution_count": null,
      "outputs": []
    },
    {
      "cell_type": "code",
      "metadata": {
        "id": "Xn_CPa5dbfQB"
      },
      "source": [
        ""
      ],
      "execution_count": null,
      "outputs": []
    },
    {
      "cell_type": "markdown",
      "metadata": {
        "id": "MhYaJGDSD_j1"
      },
      "source": [
        "##MAJAMA"
      ]
    },
    {
      "cell_type": "markdown",
      "metadata": {
        "id": "cQhod2bNEr0d"
      },
      "source": [
        "mujhe baki data bakwas lag raha hai abhi ke liye, toh sirf ye rakha hu. baad me explore karenge baki ko if needed ;) "
      ]
    },
    {
      "cell_type": "code",
      "metadata": {
        "id": "Svu4ngy4D8YK"
      },
      "source": [
        "data=pd.DataFrame(list(zip(df[\"TITLE\"],df[\"BRAND\"],df[\"BROWSE_NODE_ID\"])),\n",
        "               columns =['TITLE', 'BRAND','BROWSE_NODE_ID'])"
      ],
      "execution_count": null,
      "outputs": []
    },
    {
      "cell_type": "code",
      "metadata": {
        "id": "ay3iOT7cEHaD"
      },
      "source": [
        "data.head()"
      ],
      "execution_count": null,
      "outputs": []
    },
    {
      "cell_type": "code",
      "metadata": {
        "id": "wr737zmDEHpc"
      },
      "source": [
        "data.info()"
      ],
      "execution_count": null,
      "outputs": []
    },
    {
      "cell_type": "code",
      "metadata": {
        "id": "orGbUWnhEJGm"
      },
      "source": [
        "len(data.index)-data.count()"
      ],
      "execution_count": null,
      "outputs": []
    },
    {
      "cell_type": "code",
      "metadata": {
        "id": "FV015T3JEKlY"
      },
      "source": [
        "data=data.dropna()"
      ],
      "execution_count": null,
      "outputs": []
    },
    {
      "cell_type": "code",
      "metadata": {
        "id": "ty1DfM98EMV6"
      },
      "source": [
        "data.info()"
      ],
      "execution_count": null,
      "outputs": []
    },
    {
      "cell_type": "code",
      "metadata": {
        "id": "B6n6yJUCEO7-"
      },
      "source": [
        "len(data.index)-data.count()"
      ],
      "execution_count": null,
      "outputs": []
    },
    {
      "cell_type": "code",
      "metadata": {
        "id": "NMYV7YzKEPjM"
      },
      "source": [
        "data.head()"
      ],
      "execution_count": null,
      "outputs": []
    },
    {
      "cell_type": "code",
      "metadata": {
        "id": "t09tcCwcEQ2I"
      },
      "source": [
        ""
      ],
      "execution_count": null,
      "outputs": []
    },
    {
      "cell_type": "markdown",
      "metadata": {
        "id": "yXDM89KbeUqN"
      },
      "source": [
        "# --------------------------------------------------SID-----------------------------"
      ]
    },
    {
      "cell_type": "code",
      "metadata": {
        "id": "1QuBrpjUeXLF"
      },
      "source": [
        "import numpy as np \n",
        "import pandas as pd \n",
        "import matplotlib.pyplot as plt\n",
        "import seaborn as sns\n",
        "import os\n",
        "import csv\n",
        "%matplotlib inline\n",
        "from wordcloud import WordCloud, STOPWORDS, ImageColorGenerator\n",
        "import plotly.io as pio\n",
        "import plotly.graph_objs as go\n",
        "from plotly.offline import iplot, init_notebook_mode\n",
        "\n",
        "init_notebook_mode(connected=True)\n",
        "from collections import Counter\n",
        "from tqdm._tqdm_notebook import tqdm_notebook as tqdm\n",
        "import re\n",
        "from nltk.corpus import stopwords\n",
        "from nltk.stem import PorterStemmer\n",
        "from sklearn.preprocessing import MultiLabelBinarizer\n",
        "import operator \n",
        "from collections import defaultdict\n",
        "import string\n",
        "from nltk.tokenize.treebank import TreebankWordTokenizer"
      ],
      "execution_count": null,
      "outputs": []
    },
    {
      "cell_type": "code",
      "metadata": {
        "id": "WoVIVCTnebQJ"
      },
      "source": [
        "main_folder_path = \"/content/drive/My Drive/dataset\""
      ],
      "execution_count": null,
      "outputs": []
    },
    {
      "cell_type": "code",
      "metadata": {
        "id": "4e3w0_n1edPa"
      },
      "source": [
        "train_raw = pd.read_csv(os.path.join(main_folder_path,\"train.csv\"), encoding='utf-8', error_bad_lines=False, escapechar=\"\\\\\", quoting=csv.QUOTE_NONE)\n",
        "test_raw = pd.read_csv(os.path.join(main_folder_path,\"test.csv\"), encoding='utf-8',error_bad_lines=False, escapechar=\"\\\\\", quoting=csv.QUOTE_NONE)"
      ],
      "execution_count": null,
      "outputs": []
    },
    {
      "cell_type": "code",
      "metadata": {
        "id": "mTVEJJTdeeku"
      },
      "source": [
        "train = train_raw.copy()\n",
        "test = test_raw.copy()"
      ],
      "execution_count": null,
      "outputs": []
    },
    {
      "cell_type": "code",
      "metadata": {
        "id": "1ulVYPgcef3F"
      },
      "source": [
        "train.shape, test.shape"
      ],
      "execution_count": null,
      "outputs": []
    },
    {
      "cell_type": "code",
      "metadata": {
        "id": "lv8TKRxsehav"
      },
      "source": [
        "train.head(10)"
      ],
      "execution_count": null,
      "outputs": []
    },
    {
      "cell_type": "code",
      "metadata": {
        "id": "39ffcKx5ej8H"
      },
      "source": [
        "test.head(10)"
      ],
      "execution_count": null,
      "outputs": []
    },
    {
      "cell_type": "code",
      "metadata": {
        "id": "453QrnFYioem"
      },
      "source": [
        "def target_distribution(df , target, top_counts=None):\n",
        "    if top_counts:\n",
        "        topic_counts = df[target].astype(str).value_counts()[:top_counts]\n",
        "    else:        \n",
        "        topic_counts = df[target].astype(str).value_counts()\n",
        "    \n",
        "    fig = go.Figure([go.Bar(x=topic_counts.index, y=topic_counts.values, \n",
        "                            text=topic_counts.values,\n",
        "                            textposition='auto',\n",
        "                           marker_color='indianred')])\n",
        "    fig.update_layout(\n",
        "            title=go.layout.Title(\n",
        "                text=\"BROWSE_NODE_ID Distribution\",\n",
        "            ),\n",
        "            \n",
        "            yaxis=dict(\n",
        "                    title='Count',\n",
        "                ),\n",
        "                xaxis=dict(\n",
        "                    title=\"BROWSE_NODE_ID\",\n",
        "                )\n",
        "        )\n",
        "    fig.show()"
      ],
      "execution_count": null,
      "outputs": []
    },
    {
      "cell_type": "code",
      "metadata": {
        "id": "bfqh0LG-jCWg"
      },
      "source": [
        "target_distribution(train, 'BROWSE_NODE_ID')"
      ],
      "execution_count": null,
      "outputs": []
    },
    {
      "cell_type": "code",
      "metadata": {
        "id": "e273PV3dnHdv"
      },
      "source": [
        "train['info'] = train['DESCRIPTION'] + \" \" + train['TITLE']\n",
        "test['info'] = test['DESCRIPTION'] + \" \" + test['TITLE']\n",
        "\n",
        "\n",
        "train['brand_length'] = train['DESCRIPTION'].apply(lambda x: len(x))\n",
        "train['brand_word_count'] = train['DESCRIPTION'].apply(lambda x: len(x.split()))\n",
        "\n",
        "train['title_length'] = train['TITLE'].apply(lambda x: len(x))\n",
        "train['title_word_count'] = train['TITLE'].apply(lambda x: len(x.split()))"
      ],
      "execution_count": null,
      "outputs": []
    },
    {
      "cell_type": "code",
      "metadata": {
        "id": "sjjlxnX0ek_7"
      },
      "source": [
        "train.isnull().sum()"
      ],
      "execution_count": null,
      "outputs": []
    },
    {
      "cell_type": "code",
      "metadata": {
        "id": "GWPsNdPuenfL"
      },
      "source": [
        "test.isnull().sum()"
      ],
      "execution_count": null,
      "outputs": []
    },
    {
      "cell_type": "code",
      "metadata": {
        "id": "NLZ6kYgQfRVV"
      },
      "source": [
        "repeated_title = train['TITLE'].value_counts()\n",
        "repeated_brand = train['BRAND'].value_counts()"
      ],
      "execution_count": null,
      "outputs": []
    },
    {
      "cell_type": "code",
      "metadata": {
        "id": "s7-vvq1zfwxt"
      },
      "source": [
        "repeated_title.head()"
      ],
      "execution_count": null,
      "outputs": []
    },
    {
      "cell_type": "code",
      "metadata": {
        "id": "a4T0GPvLf26r"
      },
      "source": [
        "repeated_brand.head()"
      ],
      "execution_count": null,
      "outputs": []
    },
    {
      "cell_type": "code",
      "metadata": {
        "id": "-gem4UE-f-mI"
      },
      "source": [
        "train[train['TITLE'] == repeated_title.index[0]]"
      ],
      "execution_count": null,
      "outputs": []
    },
    {
      "cell_type": "code",
      "metadata": {
        "id": "qeI78ivTgFU2"
      },
      "source": [
        "multi_label_data = defaultdict(list)\n",
        "\n",
        "for key, grp in train.groupby(['BRAND','TITLE']):\n",
        "    multi_label_data['BRAND'].append(key[0])\n",
        "    multi_label_data['TITLE'].append(key[1])\n",
        "    #multi_label_data['DESCRIPTION'].append(key[1])\n",
        "    #multi_label_data['BULLET_POINTS\t'].append(key[1])"
      ],
      "execution_count": null,
      "outputs": []
    },
    {
      "cell_type": "code",
      "metadata": {
        "id": "xGOz6lGSgdnI"
      },
      "source": [
        "multi_label_df = pd.DataFrame(multi_label_data)"
      ],
      "execution_count": null,
      "outputs": []
    },
    {
      "cell_type": "code",
      "metadata": {
        "id": "mXPuuLDfjI89"
      },
      "source": [
        "multi_label_df['info'] = multi_label_df['BRAND'] +\" \"+ multi_label_df['TITLE']"
      ],
      "execution_count": null,
      "outputs": []
    },
    {
      "cell_type": "code",
      "metadata": {
        "id": "aY1m79Sojdwn"
      },
      "source": [
        "multi_label_df.head()"
      ],
      "execution_count": null,
      "outputs": []
    },
    {
      "cell_type": "code",
      "metadata": {
        "id": "_TYKw74ijfH_"
      },
      "source": [
        "mul_binarizer = MultiLabelBinarizer()\n",
        "mul_binarizer.fit(multi_label_data)"
      ],
      "execution_count": null,
      "outputs": []
    },
    {
      "cell_type": "code",
      "metadata": {
        "id": "DlRSplfBsjMJ"
      },
      "source": [
        ""
      ],
      "execution_count": null,
      "outputs": []
    },
    {
      "cell_type": "code",
      "metadata": {
        "id": "z6YRka8yjsgu"
      },
      "source": [
        "mul_binarizer.classes_"
      ],
      "execution_count": null,
      "outputs": []
    },
    {
      "cell_type": "code",
      "metadata": {
        "id": "YYZGbax3lOo5"
      },
      "source": [
        "y_trans = mul_binarizer.transform(multi_label_df.TITLE)"
      ],
      "execution_count": null,
      "outputs": []
    },
    {
      "cell_type": "code",
      "metadata": {
        "id": "X-NI2LTIlXFS"
      },
      "source": [
        "y_trans"
      ],
      "execution_count": null,
      "outputs": []
    },
    {
      "cell_type": "code",
      "metadata": {
        "id": "ZR1k3s2hlhER"
      },
      "source": [
        "target_distribution(multi_label_df, 'TITLE', 30)"
      ],
      "execution_count": null,
      "outputs": []
    },
    {
      "cell_type": "code",
      "metadata": {
        "id": "G-srDiq_mBtx"
      },
      "source": [
        ""
      ],
      "execution_count": null,
      "outputs": []
    },
    {
      "cell_type": "markdown",
      "metadata": {
        "id": "9HWjLtQhcfe3"
      },
      "source": [
        "# Common Words"
      ]
    },
    {
      "cell_type": "code",
      "metadata": {
        "colab": {
          "base_uri": "https://localhost:8080/",
          "height": 204
        },
        "id": "WhY_10J9chze",
        "outputId": "ef6972e6-3511-4107-f2d0-bc225b2a49f3"
      },
      "source": [
        "df_sam=df[:10000]\n",
        "df_sam.head()"
      ],
      "execution_count": null,
      "outputs": [
        {
          "output_type": "execute_result",
          "data": {
            "text/html": [
              "<div>\n",
              "<style scoped>\n",
              "    .dataframe tbody tr th:only-of-type {\n",
              "        vertical-align: middle;\n",
              "    }\n",
              "\n",
              "    .dataframe tbody tr th {\n",
              "        vertical-align: top;\n",
              "    }\n",
              "\n",
              "    .dataframe thead th {\n",
              "        text-align: right;\n",
              "    }\n",
              "</style>\n",
              "<table border=\"1\" class=\"dataframe\">\n",
              "  <thead>\n",
              "    <tr style=\"text-align: right;\">\n",
              "      <th></th>\n",
              "      <th>TITLE</th>\n",
              "      <th>DESCRIPTION</th>\n",
              "      <th>BULLET_POINTS</th>\n",
              "      <th>BRAND</th>\n",
              "      <th>BROWSE_NODE_ID</th>\n",
              "    </tr>\n",
              "  </thead>\n",
              "  <tbody>\n",
              "    <tr>\n",
              "      <th>0</th>\n",
              "      <td>Pete The Cat Bedtime Blues Doll, 14.5 Inch</td>\n",
              "      <td>Pete the Cat is the coolest, most popular cat ...</td>\n",
              "      <td>[Pete the Cat Bedtime Blues plush doll,Based o...</td>\n",
              "      <td>MerryMakers</td>\n",
              "      <td>0</td>\n",
              "    </tr>\n",
              "    <tr>\n",
              "      <th>1</th>\n",
              "      <td>The New Yorker NYHM014 Refrigerator Magnet, 2 ...</td>\n",
              "      <td>The New Yorker Handsome Cello Wrapped Hard Mag...</td>\n",
              "      <td>[Cat In A Tea Cup by New Yorker cover artist G...</td>\n",
              "      <td>The New Yorker</td>\n",
              "      <td>1</td>\n",
              "    </tr>\n",
              "    <tr>\n",
              "      <th>2</th>\n",
              "      <td>The Ultimate Self-Sufficiency Handbook: A Comp...</td>\n",
              "      <td>NaN</td>\n",
              "      <td>Skyhorse Publishing</td>\n",
              "      <td>imusti</td>\n",
              "      <td>2</td>\n",
              "    </tr>\n",
              "    <tr>\n",
              "      <th>3</th>\n",
              "      <td>Amway Nutrilite Kids Chewable Iron Tablets (100)</td>\n",
              "      <td>NaN</td>\n",
              "      <td>[Nutrilite Kids,Chewable Iron Tablets,Quantity...</td>\n",
              "      <td>Amway</td>\n",
              "      <td>3</td>\n",
              "    </tr>\n",
              "    <tr>\n",
              "      <th>4</th>\n",
              "      <td>Teacher Planner Company A4 6 Lesson Academic T...</td>\n",
              "      <td>NaN</td>\n",
              "      <td>NaN</td>\n",
              "      <td>NaN</td>\n",
              "      <td>4</td>\n",
              "    </tr>\n",
              "  </tbody>\n",
              "</table>\n",
              "</div>"
            ],
            "text/plain": [
              "                                               TITLE  ... BROWSE_NODE_ID\n",
              "0         Pete The Cat Bedtime Blues Doll, 14.5 Inch  ...              0\n",
              "1  The New Yorker NYHM014 Refrigerator Magnet, 2 ...  ...              1\n",
              "2  The Ultimate Self-Sufficiency Handbook: A Comp...  ...              2\n",
              "3   Amway Nutrilite Kids Chewable Iron Tablets (100)  ...              3\n",
              "4  Teacher Planner Company A4 6 Lesson Academic T...  ...              4\n",
              "\n",
              "[5 rows x 5 columns]"
            ]
          },
          "metadata": {
            "tags": []
          },
          "execution_count": 114
        }
      ]
    },
    {
      "cell_type": "code",
      "metadata": {
        "colab": {
          "base_uri": "https://localhost:8080/",
          "height": 289
        },
        "id": "GbIl1Viackyt",
        "outputId": "3d8b5101-2ea1-40ed-9c39-9f8e0d7fd2d1"
      },
      "source": [
        "df_sam=df_sam.dropna()\n",
        "df_sam=df_sam.reset_index()\n",
        "df_sam['GOOD']=np.nan\n",
        "df_sam.head()"
      ],
      "execution_count": null,
      "outputs": [
        {
          "output_type": "execute_result",
          "data": {
            "text/html": [
              "<div>\n",
              "<style scoped>\n",
              "    .dataframe tbody tr th:only-of-type {\n",
              "        vertical-align: middle;\n",
              "    }\n",
              "\n",
              "    .dataframe tbody tr th {\n",
              "        vertical-align: top;\n",
              "    }\n",
              "\n",
              "    .dataframe thead th {\n",
              "        text-align: right;\n",
              "    }\n",
              "</style>\n",
              "<table border=\"1\" class=\"dataframe\">\n",
              "  <thead>\n",
              "    <tr style=\"text-align: right;\">\n",
              "      <th></th>\n",
              "      <th>index</th>\n",
              "      <th>TITLE</th>\n",
              "      <th>DESCRIPTION</th>\n",
              "      <th>BULLET_POINTS</th>\n",
              "      <th>BRAND</th>\n",
              "      <th>BROWSE_NODE_ID</th>\n",
              "      <th>GOOD</th>\n",
              "    </tr>\n",
              "  </thead>\n",
              "  <tbody>\n",
              "    <tr>\n",
              "      <th>0</th>\n",
              "      <td>0</td>\n",
              "      <td>Pete The Cat Bedtime Blues Doll, 14.5 Inch</td>\n",
              "      <td>Pete the Cat is the coolest, most popular cat ...</td>\n",
              "      <td>[Pete the Cat Bedtime Blues plush doll,Based o...</td>\n",
              "      <td>MerryMakers</td>\n",
              "      <td>0</td>\n",
              "      <td>NaN</td>\n",
              "    </tr>\n",
              "    <tr>\n",
              "      <th>1</th>\n",
              "      <td>1</td>\n",
              "      <td>The New Yorker NYHM014 Refrigerator Magnet, 2 ...</td>\n",
              "      <td>The New Yorker Handsome Cello Wrapped Hard Mag...</td>\n",
              "      <td>[Cat In A Tea Cup by New Yorker cover artist G...</td>\n",
              "      <td>The New Yorker</td>\n",
              "      <td>1</td>\n",
              "      <td>NaN</td>\n",
              "    </tr>\n",
              "    <tr>\n",
              "      <th>2</th>\n",
              "      <td>5</td>\n",
              "      <td>Men'S Full Sleeve Raglan T-Shirts Denim T-Shir...</td>\n",
              "      <td>Men'S Full Sleeve Raglan T-Shirts Denim T-Shir...</td>\n",
              "      <td>[Color: Blue,Sleeve: Full Sleeve,Material: Cot...</td>\n",
              "      <td>Bhavya Enterprise</td>\n",
              "      <td>5</td>\n",
              "      <td>NaN</td>\n",
              "    </tr>\n",
              "    <tr>\n",
              "      <th>3</th>\n",
              "      <td>6</td>\n",
              "      <td>Glance Women's Wallet (Black) (LW-21)</td>\n",
              "      <td>This Black wallet by Glance will be a treasure...</td>\n",
              "      <td>[The Most Comfortable Women's Wallet That You ...</td>\n",
              "      <td>Glance</td>\n",
              "      <td>6</td>\n",
              "      <td>NaN</td>\n",
              "    </tr>\n",
              "    <tr>\n",
              "      <th>4</th>\n",
              "      <td>7</td>\n",
              "      <td>Wild Animals Hungry Brain Educational Flash Ca...</td>\n",
              "      <td>Wild Animals are the animals that mostly stays...</td>\n",
              "      <td>[Playful learning: Flash cards develops the lo...</td>\n",
              "      <td>hungry brain</td>\n",
              "      <td>7</td>\n",
              "      <td>NaN</td>\n",
              "    </tr>\n",
              "  </tbody>\n",
              "</table>\n",
              "</div>"
            ],
            "text/plain": [
              "   index  ... GOOD\n",
              "0      0  ...  NaN\n",
              "1      1  ...  NaN\n",
              "2      5  ...  NaN\n",
              "3      6  ...  NaN\n",
              "4      7  ...  NaN\n",
              "\n",
              "[5 rows x 7 columns]"
            ]
          },
          "metadata": {
            "tags": []
          },
          "execution_count": 115
        }
      ]
    },
    {
      "cell_type": "code",
      "metadata": {
        "id": "mP_Sgvo0cvkQ"
      },
      "source": [
        "def mostcommon(k):\n",
        "    from collections import Counter\n",
        "    sw = list(stopwords.words('english'))\n",
        "    punc = '''!()-[]{};:'\"\\, <>./?@#$%^&*_~'''\n",
        "    manual=[\"men's\",\"women's\"]\n",
        "    str=\"\"\n",
        "    for i in k:\n",
        "        str+=i+\" \"\n",
        "    str=str.lower()\n",
        "    fin=\"\"\n",
        "    str_l=str.split(\" \")\n",
        "    for a in str_l:\n",
        "        if (a not in sw) and (a not in punc) and (a not in manual):\n",
        "            fin+=a+\" \"\n",
        "    \n",
        "    split_it = fin.split()\n",
        "    Counter = Counter(split_it)\n",
        "    most_occur = Counter.most_common(1)\n",
        "\n",
        "    return most_occur[0][0]"
      ],
      "execution_count": null,
      "outputs": []
    },
    {
      "cell_type": "code",
      "metadata": {
        "id": "O1GjfQFscrxm"
      },
      "source": [
        "l1=list(df_sam.BROWSE_NODE_ID.unique())\n",
        "for a in l1:\n",
        "    k=list(df_sam[df_sam[\"BROWSE_NODE_ID\"]==a][\"TITLE\"])\n",
        "    com=mostcommon(k)\n",
        "    #df['BULLET_POINTS'][df.BROWSE_NODE_ID == a] = com\n",
        "    df_sam.loc[df_sam.BROWSE_NODE_ID == a, 'GOOD'] = com"
      ],
      "execution_count": null,
      "outputs": []
    },
    {
      "cell_type": "code",
      "metadata": {
        "colab": {
          "base_uri": "https://localhost:8080/",
          "height": 289
        },
        "id": "igx3IA_oc0iz",
        "outputId": "baa7d73d-3a42-4872-e5f7-eef9535b9835"
      },
      "source": [
        "df_sam.head()"
      ],
      "execution_count": null,
      "outputs": [
        {
          "output_type": "execute_result",
          "data": {
            "text/html": [
              "<div>\n",
              "<style scoped>\n",
              "    .dataframe tbody tr th:only-of-type {\n",
              "        vertical-align: middle;\n",
              "    }\n",
              "\n",
              "    .dataframe tbody tr th {\n",
              "        vertical-align: top;\n",
              "    }\n",
              "\n",
              "    .dataframe thead th {\n",
              "        text-align: right;\n",
              "    }\n",
              "</style>\n",
              "<table border=\"1\" class=\"dataframe\">\n",
              "  <thead>\n",
              "    <tr style=\"text-align: right;\">\n",
              "      <th></th>\n",
              "      <th>index</th>\n",
              "      <th>TITLE</th>\n",
              "      <th>DESCRIPTION</th>\n",
              "      <th>BULLET_POINTS</th>\n",
              "      <th>BRAND</th>\n",
              "      <th>BROWSE_NODE_ID</th>\n",
              "      <th>GOOD</th>\n",
              "    </tr>\n",
              "  </thead>\n",
              "  <tbody>\n",
              "    <tr>\n",
              "      <th>0</th>\n",
              "      <td>0</td>\n",
              "      <td>Pete The Cat Bedtime Blues Doll, 14.5 Inch</td>\n",
              "      <td>Pete the Cat is the coolest, most popular cat ...</td>\n",
              "      <td>[Pete the Cat Bedtime Blues plush doll,Based o...</td>\n",
              "      <td>MerryMakers</td>\n",
              "      <td>0</td>\n",
              "      <td>doll</td>\n",
              "    </tr>\n",
              "    <tr>\n",
              "      <th>1</th>\n",
              "      <td>1</td>\n",
              "      <td>The New Yorker NYHM014 Refrigerator Magnet, 2 ...</td>\n",
              "      <td>The New Yorker Handsome Cello Wrapped Hard Mag...</td>\n",
              "      <td>[Cat In A Tea Cup by New Yorker cover artist G...</td>\n",
              "      <td>The New Yorker</td>\n",
              "      <td>1</td>\n",
              "      <td>magnet</td>\n",
              "    </tr>\n",
              "    <tr>\n",
              "      <th>2</th>\n",
              "      <td>5</td>\n",
              "      <td>Men'S Full Sleeve Raglan T-Shirts Denim T-Shir...</td>\n",
              "      <td>Men'S Full Sleeve Raglan T-Shirts Denim T-Shir...</td>\n",
              "      <td>[Color: Blue,Sleeve: Full Sleeve,Material: Cot...</td>\n",
              "      <td>Bhavya Enterprise</td>\n",
              "      <td>5</td>\n",
              "      <td>t-shirt</td>\n",
              "    </tr>\n",
              "    <tr>\n",
              "      <th>3</th>\n",
              "      <td>6</td>\n",
              "      <td>Glance Women's Wallet (Black) (LW-21)</td>\n",
              "      <td>This Black wallet by Glance will be a treasure...</td>\n",
              "      <td>[The Most Comfortable Women's Wallet That You ...</td>\n",
              "      <td>Glance</td>\n",
              "      <td>6</td>\n",
              "      <td>wallet</td>\n",
              "    </tr>\n",
              "    <tr>\n",
              "      <th>4</th>\n",
              "      <td>7</td>\n",
              "      <td>Wild Animals Hungry Brain Educational Flash Ca...</td>\n",
              "      <td>Wild Animals are the animals that mostly stays...</td>\n",
              "      <td>[Playful learning: Flash cards develops the lo...</td>\n",
              "      <td>hungry brain</td>\n",
              "      <td>7</td>\n",
              "      <td>flash</td>\n",
              "    </tr>\n",
              "  </tbody>\n",
              "</table>\n",
              "</div>"
            ],
            "text/plain": [
              "   index  ...     GOOD\n",
              "0      0  ...     doll\n",
              "1      1  ...   magnet\n",
              "2      5  ...  t-shirt\n",
              "3      6  ...   wallet\n",
              "4      7  ...    flash\n",
              "\n",
              "[5 rows x 7 columns]"
            ]
          },
          "metadata": {
            "tags": []
          },
          "execution_count": 118
        }
      ]
    },
    {
      "cell_type": "code",
      "metadata": {
        "id": "KPlBoIpxeQIL",
        "colab": {
          "base_uri": "https://localhost:8080/"
        },
        "outputId": "bb3fb8e9-930d-4ab4-ee7e-ff6ebfd5b2bf"
      },
      "source": [
        "df_sam[\"GOOD\"].nunique()"
      ],
      "execution_count": null,
      "outputs": [
        {
          "output_type": "execute_result",
          "data": {
            "text/plain": [
              "1361"
            ]
          },
          "metadata": {
            "tags": []
          },
          "execution_count": 98
        }
      ]
    },
    {
      "cell_type": "code",
      "metadata": {
        "colab": {
          "base_uri": "https://localhost:8080/"
        },
        "id": "LEVxGyvi4B39",
        "outputId": "54487cfe-88fd-4792-e93a-3713da01f6cb"
      },
      "source": [
        "df_sam[\"GOOD\"].mode()"
      ],
      "execution_count": null,
      "outputs": [
        {
          "output_type": "execute_result",
          "data": {
            "text/plain": [
              "0    back\n",
              "dtype: object"
            ]
          },
          "metadata": {
            "tags": []
          },
          "execution_count": 99
        }
      ]
    },
    {
      "cell_type": "code",
      "metadata": {
        "colab": {
          "base_uri": "https://localhost:8080/"
        },
        "id": "A-meT1HI4Xra",
        "outputId": "48fb7475-98ae-4669-8412-ea4680b8ae07"
      },
      "source": [
        "len(df_sam.index)-df_sam.count()"
      ],
      "execution_count": null,
      "outputs": [
        {
          "output_type": "execute_result",
          "data": {
            "text/plain": [
              "index             0\n",
              "TITLE             0\n",
              "DESCRIPTION       0\n",
              "BULLET_POINTS     0\n",
              "BRAND             0\n",
              "BROWSE_NODE_ID    0\n",
              "GOOD              0\n",
              "dtype: int64"
            ]
          },
          "metadata": {
            "tags": []
          },
          "execution_count": 100
        }
      ]
    },
    {
      "cell_type": "code",
      "metadata": {
        "id": "hUvqHS4G4zx-"
      },
      "source": [
        "k=list(df_sam[\"GOOD\"])\n",
        "com=mostcommon_f(k)"
      ],
      "execution_count": null,
      "outputs": []
    },
    {
      "cell_type": "code",
      "metadata": {
        "colab": {
          "base_uri": "https://localhost:8080/"
        },
        "id": "3tD3VJXL47-N",
        "outputId": "6a562676-e80b-43b3-ac7e-ef10475160a5"
      },
      "source": [
        "com"
      ],
      "execution_count": null,
      "outputs": [
        {
          "output_type": "execute_result",
          "data": {
            "text/plain": [
              "[('back', 568),\n",
              " ('t-shirt', 189),\n",
              " ('cover', 106),\n",
              " ('cotton', 105),\n",
              " ('kurta', 100)]"
            ]
          },
          "metadata": {
            "tags": []
          },
          "execution_count": 102
        }
      ]
    },
    {
      "cell_type": "code",
      "metadata": {
        "id": "EYN_eDjV5ZUr"
      },
      "source": [
        "def mostcommon_f(k):\n",
        "    from collections import Counter\n",
        "    sw = list(stopwords.words('english'))\n",
        "    str=\"\"\n",
        "    for i in k:\n",
        "        str+=i+\" \"\n",
        "    str=str.lower()\n",
        "    fin=\"\"\n",
        "    str_l=str.split(\" \")\n",
        "    for a in str_l:\n",
        "        if a not in sw:\n",
        "            fin+=a+\" \"\n",
        "    \n",
        "    split_it = fin.split()\n",
        "    Counter = Counter(split_it)\n",
        "    most_occur = Counter.most_common(5)\n",
        "\n",
        "    return most_occur"
      ],
      "execution_count": null,
      "outputs": []
    },
    {
      "cell_type": "code",
      "metadata": {
        "id": "2evAEoR_6VHO"
      },
      "source": [
        "k=list(df_sam[df_sam[\"GOOD\"]==\"cover\"][\"BROWSE_NODE_ID\"])"
      ],
      "execution_count": null,
      "outputs": []
    },
    {
      "cell_type": "code",
      "metadata": {
        "id": "HvFWgyad7B8c"
      },
      "source": [
        "k=list(df_sam[df_sam[\"BROWSE_NODE_ID\"]==1295][\"TITLE\"])"
      ],
      "execution_count": null,
      "outputs": []
    },
    {
      "cell_type": "code",
      "metadata": {
        "id": "t41lJYIC7Vr9"
      },
      "source": [
        "Y=df_sam[\"BROWSE_NODE_ID\"]\n",
        "X=df_sam[[\"TITLE\",\"DESCRIPTION\",\"BRAND\",\"BULLET_POINTS\",\"GOOD\",\"BROWSE_NODE_ID\"]]"
      ],
      "execution_count": null,
      "outputs": []
    },
    {
      "cell_type": "code",
      "metadata": {
        "id": "I_nAyyN8A0QA"
      },
      "source": [
        "\n",
        "# X_test=X[:100]\n",
        "# Y_test=Y[:100]\n",
        "# X_train=X[100:]\n",
        "# Y_train=Y[100:]\n",
        "# label=[]\n",
        "\n",
        "from sklearn.model_selection import train_test_split\n",
        "\n",
        "X_train, X_test, Y_train, Y_test = train_test_split(X, Y, test_size=0.1, random_state=42)\n",
        "X_train=X_train.reset_index()\n",
        "X_test=X_test.reset_index()\n",
        "Y_train=Y_train.reset_index()\n",
        "Y_test=Y_test.reset_index()"
      ],
      "execution_count": null,
      "outputs": []
    },
    {
      "cell_type": "code",
      "metadata": {
        "colab": {
          "base_uri": "https://localhost:8080/",
          "height": 193
        },
        "id": "nAaMCCugBCha",
        "outputId": "2e0c0555-3247-42e1-94bf-51e0668d2d29"
      },
      "source": [
        "X_test[:3]"
      ],
      "execution_count": null,
      "outputs": [
        {
          "output_type": "execute_result",
          "data": {
            "text/html": [
              "<div>\n",
              "<style scoped>\n",
              "    .dataframe tbody tr th:only-of-type {\n",
              "        vertical-align: middle;\n",
              "    }\n",
              "\n",
              "    .dataframe tbody tr th {\n",
              "        vertical-align: top;\n",
              "    }\n",
              "\n",
              "    .dataframe thead th {\n",
              "        text-align: right;\n",
              "    }\n",
              "</style>\n",
              "<table border=\"1\" class=\"dataframe\">\n",
              "  <thead>\n",
              "    <tr style=\"text-align: right;\">\n",
              "      <th></th>\n",
              "      <th>index</th>\n",
              "      <th>TITLE</th>\n",
              "      <th>DESCRIPTION</th>\n",
              "      <th>BRAND</th>\n",
              "      <th>BULLET_POINTS</th>\n",
              "      <th>GOOD</th>\n",
              "      <th>BROWSE_NODE_ID</th>\n",
              "    </tr>\n",
              "  </thead>\n",
              "  <tbody>\n",
              "    <tr>\n",
              "      <th>0</th>\n",
              "      <td>1223</td>\n",
              "      <td>Mirza Fabrics Men's Shirt Fabric (Denim Blue)</td>\n",
              "      <td>Mirza Fabrics collection of pure giza cotton f...</td>\n",
              "      <td>Mirza Fabrics</td>\n",
              "      <td>[Material: Cotton,Size: 1.6m length by 1.5m br...</td>\n",
              "      <td>shirt</td>\n",
              "      <td>1840</td>\n",
              "    </tr>\n",
              "    <tr>\n",
              "      <th>1</th>\n",
              "      <td>5782</td>\n",
              "      <td>Silly Punter Marvel Avengers Rocket Tshirt Nav...</td>\n",
              "      <td>\" We are in the Endgame now\" Avengers are prep...</td>\n",
              "      <td>Silly Punter</td>\n",
              "      <td>[Marvel official merchandise,100% pure Bio-Was...</td>\n",
              "      <td>t-shirt</td>\n",
              "      <td>5</td>\n",
              "    </tr>\n",
              "    <tr>\n",
              "      <th>2</th>\n",
              "      <td>435</td>\n",
              "      <td>ADAMIS Wine Men's Wallet</td>\n",
              "      <td>A perfect pick for daily use, this men’s walle...</td>\n",
              "      <td>Adamis</td>\n",
              "      <td>[Includes 2 Compartments &amp; 3 Card Slots to car...</td>\n",
              "      <td>wallet</td>\n",
              "      <td>816</td>\n",
              "    </tr>\n",
              "  </tbody>\n",
              "</table>\n",
              "</div>"
            ],
            "text/plain": [
              "   index  ... BROWSE_NODE_ID\n",
              "0   1223  ...           1840\n",
              "1   5782  ...              5\n",
              "2    435  ...            816\n",
              "\n",
              "[3 rows x 7 columns]"
            ]
          },
          "metadata": {
            "tags": []
          },
          "execution_count": 184
        }
      ]
    },
    {
      "cell_type": "code",
      "metadata": {
        "colab": {
          "base_uri": "https://localhost:8080/"
        },
        "id": "8tTeT78dBFeM",
        "outputId": "1190523e-0274-4920-d668-0a52aa186d6d"
      },
      "source": [
        "label=[]\n",
        "for i in range(len(X_test)):\n",
        "  print(i)\n",
        "  k=X_test[\"TITLE\"][i].lower().split(\" \")\n",
        "  lt=[]\n",
        "  for j in X_train[\"GOOD\"]:\n",
        "    if j in k and (j != \" \") and (j != \"\"):\n",
        "      lt.append(j)\n",
        "  from collections import Counter\n",
        "  data = Counter(lt)\n",
        "  mk=data.most_common()\n",
        "  if mk==[]:\n",
        "    label.append(X_train[\"BROWSE_NODE_ID\"].mode())\n",
        "    continue\n",
        "  lst=list(X_train[X_train[\"GOOD\"]==mk[0][0]][\"BROWSE_NODE_ID\"])\n",
        "  mk=max(set(lst), key=lst.count)\n",
        "  label.append(mk)\n",
        "  # com=mostcommon(k)\n",
        "  # label.append(com)"
      ],
      "execution_count": null,
      "outputs": [
        {
          "output_type": "stream",
          "text": [
            "0\n",
            "1\n",
            "2\n",
            "3\n",
            "4\n",
            "5\n",
            "6\n",
            "7\n",
            "8\n",
            "9\n",
            "10\n",
            "11\n",
            "12\n",
            "13\n",
            "14\n",
            "15\n",
            "16\n",
            "17\n",
            "18\n",
            "19\n",
            "20\n",
            "21\n",
            "22\n",
            "23\n",
            "24\n",
            "25\n",
            "26\n",
            "27\n",
            "28\n",
            "29\n",
            "30\n",
            "31\n",
            "32\n",
            "33\n",
            "34\n",
            "35\n",
            "36\n",
            "37\n",
            "38\n",
            "39\n",
            "40\n",
            "41\n",
            "42\n",
            "43\n",
            "44\n",
            "45\n",
            "46\n",
            "47\n",
            "48\n",
            "49\n",
            "50\n",
            "51\n",
            "52\n",
            "53\n",
            "54\n",
            "55\n",
            "56\n",
            "57\n",
            "58\n",
            "59\n",
            "60\n",
            "61\n",
            "62\n",
            "63\n",
            "64\n",
            "65\n",
            "66\n",
            "67\n",
            "68\n",
            "69\n",
            "70\n",
            "71\n",
            "72\n",
            "73\n",
            "74\n",
            "75\n",
            "76\n",
            "77\n",
            "78\n",
            "79\n",
            "80\n",
            "81\n",
            "82\n",
            "83\n",
            "84\n",
            "85\n",
            "86\n",
            "87\n",
            "88\n",
            "89\n",
            "90\n",
            "91\n",
            "92\n",
            "93\n",
            "94\n",
            "95\n",
            "96\n",
            "97\n",
            "98\n",
            "99\n",
            "100\n",
            "101\n",
            "102\n",
            "103\n",
            "104\n",
            "105\n",
            "106\n",
            "107\n",
            "108\n",
            "109\n",
            "110\n",
            "111\n",
            "112\n",
            "113\n",
            "114\n",
            "115\n",
            "116\n",
            "117\n",
            "118\n",
            "119\n",
            "120\n",
            "121\n",
            "122\n",
            "123\n",
            "124\n",
            "125\n",
            "126\n",
            "127\n",
            "128\n",
            "129\n",
            "130\n",
            "131\n",
            "132\n",
            "133\n",
            "134\n",
            "135\n",
            "136\n",
            "137\n",
            "138\n",
            "139\n",
            "140\n",
            "141\n",
            "142\n",
            "143\n",
            "144\n",
            "145\n",
            "146\n",
            "147\n",
            "148\n",
            "149\n",
            "150\n",
            "151\n",
            "152\n",
            "153\n",
            "154\n",
            "155\n",
            "156\n",
            "157\n",
            "158\n",
            "159\n",
            "160\n",
            "161\n",
            "162\n",
            "163\n",
            "164\n",
            "165\n",
            "166\n",
            "167\n",
            "168\n",
            "169\n",
            "170\n",
            "171\n",
            "172\n",
            "173\n",
            "174\n",
            "175\n",
            "176\n",
            "177\n",
            "178\n",
            "179\n",
            "180\n",
            "181\n",
            "182\n",
            "183\n",
            "184\n",
            "185\n",
            "186\n",
            "187\n",
            "188\n",
            "189\n",
            "190\n",
            "191\n",
            "192\n",
            "193\n",
            "194\n",
            "195\n",
            "196\n",
            "197\n",
            "198\n",
            "199\n",
            "200\n",
            "201\n",
            "202\n",
            "203\n",
            "204\n",
            "205\n",
            "206\n",
            "207\n",
            "208\n",
            "209\n",
            "210\n",
            "211\n",
            "212\n",
            "213\n",
            "214\n",
            "215\n",
            "216\n",
            "217\n",
            "218\n",
            "219\n",
            "220\n",
            "221\n",
            "222\n",
            "223\n",
            "224\n",
            "225\n",
            "226\n",
            "227\n",
            "228\n",
            "229\n",
            "230\n",
            "231\n",
            "232\n",
            "233\n",
            "234\n",
            "235\n",
            "236\n",
            "237\n",
            "238\n",
            "239\n",
            "240\n",
            "241\n",
            "242\n",
            "243\n",
            "244\n",
            "245\n",
            "246\n",
            "247\n",
            "248\n",
            "249\n",
            "250\n",
            "251\n",
            "252\n",
            "253\n",
            "254\n",
            "255\n",
            "256\n",
            "257\n",
            "258\n",
            "259\n",
            "260\n",
            "261\n",
            "262\n",
            "263\n",
            "264\n",
            "265\n",
            "266\n",
            "267\n",
            "268\n",
            "269\n",
            "270\n",
            "271\n",
            "272\n",
            "273\n",
            "274\n",
            "275\n",
            "276\n",
            "277\n",
            "278\n",
            "279\n",
            "280\n",
            "281\n",
            "282\n",
            "283\n",
            "284\n",
            "285\n",
            "286\n",
            "287\n",
            "288\n",
            "289\n",
            "290\n",
            "291\n",
            "292\n",
            "293\n",
            "294\n",
            "295\n",
            "296\n",
            "297\n",
            "298\n",
            "299\n",
            "300\n",
            "301\n",
            "302\n",
            "303\n",
            "304\n",
            "305\n",
            "306\n",
            "307\n",
            "308\n",
            "309\n",
            "310\n",
            "311\n",
            "312\n",
            "313\n",
            "314\n",
            "315\n",
            "316\n",
            "317\n",
            "318\n",
            "319\n",
            "320\n",
            "321\n",
            "322\n",
            "323\n",
            "324\n",
            "325\n",
            "326\n",
            "327\n",
            "328\n",
            "329\n",
            "330\n",
            "331\n",
            "332\n",
            "333\n",
            "334\n",
            "335\n",
            "336\n",
            "337\n",
            "338\n",
            "339\n",
            "340\n",
            "341\n",
            "342\n",
            "343\n",
            "344\n",
            "345\n",
            "346\n",
            "347\n",
            "348\n",
            "349\n",
            "350\n",
            "351\n",
            "352\n",
            "353\n",
            "354\n",
            "355\n",
            "356\n",
            "357\n",
            "358\n",
            "359\n",
            "360\n",
            "361\n",
            "362\n",
            "363\n",
            "364\n",
            "365\n",
            "366\n",
            "367\n",
            "368\n",
            "369\n",
            "370\n",
            "371\n",
            "372\n",
            "373\n",
            "374\n",
            "375\n",
            "376\n",
            "377\n",
            "378\n",
            "379\n",
            "380\n",
            "381\n",
            "382\n",
            "383\n",
            "384\n",
            "385\n",
            "386\n",
            "387\n",
            "388\n",
            "389\n",
            "390\n",
            "391\n",
            "392\n",
            "393\n",
            "394\n",
            "395\n",
            "396\n",
            "397\n",
            "398\n",
            "399\n",
            "400\n",
            "401\n",
            "402\n",
            "403\n",
            "404\n",
            "405\n",
            "406\n",
            "407\n",
            "408\n",
            "409\n",
            "410\n",
            "411\n",
            "412\n",
            "413\n",
            "414\n",
            "415\n",
            "416\n",
            "417\n",
            "418\n",
            "419\n",
            "420\n",
            "421\n",
            "422\n",
            "423\n",
            "424\n",
            "425\n",
            "426\n",
            "427\n",
            "428\n",
            "429\n",
            "430\n",
            "431\n",
            "432\n",
            "433\n",
            "434\n",
            "435\n",
            "436\n",
            "437\n",
            "438\n",
            "439\n",
            "440\n",
            "441\n",
            "442\n",
            "443\n",
            "444\n",
            "445\n",
            "446\n",
            "447\n",
            "448\n",
            "449\n",
            "450\n",
            "451\n",
            "452\n",
            "453\n",
            "454\n",
            "455\n",
            "456\n",
            "457\n",
            "458\n",
            "459\n",
            "460\n",
            "461\n",
            "462\n",
            "463\n",
            "464\n",
            "465\n",
            "466\n",
            "467\n",
            "468\n",
            "469\n",
            "470\n",
            "471\n",
            "472\n",
            "473\n",
            "474\n",
            "475\n",
            "476\n",
            "477\n",
            "478\n",
            "479\n",
            "480\n",
            "481\n",
            "482\n",
            "483\n",
            "484\n",
            "485\n",
            "486\n",
            "487\n",
            "488\n",
            "489\n",
            "490\n",
            "491\n",
            "492\n",
            "493\n",
            "494\n",
            "495\n",
            "496\n",
            "497\n",
            "498\n",
            "499\n",
            "500\n",
            "501\n",
            "502\n",
            "503\n",
            "504\n",
            "505\n",
            "506\n",
            "507\n",
            "508\n",
            "509\n",
            "510\n",
            "511\n",
            "512\n",
            "513\n",
            "514\n",
            "515\n",
            "516\n",
            "517\n",
            "518\n",
            "519\n",
            "520\n",
            "521\n",
            "522\n",
            "523\n",
            "524\n",
            "525\n",
            "526\n",
            "527\n",
            "528\n",
            "529\n",
            "530\n",
            "531\n",
            "532\n",
            "533\n",
            "534\n",
            "535\n",
            "536\n",
            "537\n",
            "538\n",
            "539\n",
            "540\n",
            "541\n",
            "542\n",
            "543\n",
            "544\n",
            "545\n",
            "546\n",
            "547\n",
            "548\n",
            "549\n",
            "550\n",
            "551\n",
            "552\n",
            "553\n",
            "554\n",
            "555\n",
            "556\n",
            "557\n",
            "558\n",
            "559\n",
            "560\n",
            "561\n",
            "562\n",
            "563\n",
            "564\n",
            "565\n",
            "566\n",
            "567\n",
            "568\n",
            "569\n",
            "570\n",
            "571\n",
            "572\n",
            "573\n",
            "574\n",
            "575\n",
            "576\n",
            "577\n",
            "578\n",
            "579\n",
            "580\n",
            "581\n",
            "582\n",
            "583\n",
            "584\n",
            "585\n",
            "586\n",
            "587\n",
            "588\n",
            "589\n",
            "590\n",
            "591\n",
            "592\n",
            "593\n",
            "594\n",
            "595\n",
            "596\n",
            "597\n",
            "598\n",
            "599\n",
            "600\n",
            "601\n",
            "602\n",
            "603\n",
            "604\n",
            "605\n",
            "606\n",
            "607\n",
            "608\n",
            "609\n",
            "610\n",
            "611\n",
            "612\n",
            "613\n",
            "614\n",
            "615\n",
            "616\n",
            "617\n",
            "618\n",
            "619\n",
            "620\n",
            "621\n",
            "622\n",
            "623\n",
            "624\n",
            "625\n",
            "626\n",
            "627\n",
            "628\n",
            "629\n",
            "630\n",
            "631\n",
            "632\n",
            "633\n",
            "634\n",
            "635\n",
            "636\n",
            "637\n",
            "638\n",
            "639\n",
            "640\n",
            "641\n",
            "642\n",
            "643\n",
            "644\n",
            "645\n",
            "646\n",
            "647\n",
            "648\n",
            "649\n",
            "650\n",
            "651\n",
            "652\n",
            "653\n",
            "654\n",
            "655\n",
            "656\n",
            "657\n",
            "658\n",
            "659\n",
            "660\n",
            "661\n",
            "662\n",
            "663\n",
            "664\n",
            "665\n",
            "666\n",
            "667\n",
            "668\n",
            "669\n",
            "670\n",
            "671\n",
            "672\n",
            "673\n",
            "674\n",
            "675\n",
            "676\n",
            "677\n",
            "678\n",
            "679\n",
            "680\n",
            "681\n",
            "682\n",
            "683\n"
          ],
          "name": "stdout"
        }
      ]
    },
    {
      "cell_type": "code",
      "metadata": {
        "colab": {
          "base_uri": "https://localhost:8080/",
          "height": 37
        },
        "id": "5lShvdprB2fu",
        "outputId": "8d405365-a7d2-4537-f93a-226fb6d19881"
      },
      "source": [
        "df_sam[\"TITLE\"][0]"
      ],
      "execution_count": null,
      "outputs": [
        {
          "output_type": "execute_result",
          "data": {
            "application/vnd.google.colaboratory.intrinsic+json": {
              "type": "string"
            },
            "text/plain": [
              "'Pete The Cat Bedtime Blues Doll, 14.5 Inch'"
            ]
          },
          "metadata": {
            "tags": []
          },
          "execution_count": 131
        }
      ]
    },
    {
      "cell_type": "code",
      "metadata": {
        "id": "MQeG3sOCB6Ne"
      },
      "source": [
        "for i in X_train[\"GOOD\"]:\n",
        "  print(i)"
      ],
      "execution_count": null,
      "outputs": []
    },
    {
      "cell_type": "code",
      "metadata": {
        "colab": {
          "base_uri": "https://localhost:8080/"
        },
        "id": "_u3vC_q3E1Mn",
        "outputId": "a9caee05-6599-4e61-e5ce-9da10ff9e229"
      },
      "source": [
        "lst=list(df_sam[df_sam[\"GOOD\"]==\"inch\"][\"BROWSE_NODE_ID\"])\n",
        "max(set(lst), key=lst.count)"
      ],
      "execution_count": null,
      "outputs": [
        {
          "output_type": "execute_result",
          "data": {
            "text/plain": [
              "796"
            ]
          },
          "metadata": {
            "tags": []
          },
          "execution_count": 158
        }
      ]
    },
    {
      "cell_type": "code",
      "metadata": {
        "colab": {
          "base_uri": "https://localhost:8080/"
        },
        "id": "7qt6HXV6FS0E",
        "outputId": "c9e07293-4dba-4e5a-9d9b-c4f8a01eaab0"
      },
      "source": [
        "list(df_sam[df_sam[\"BROWSE_NODE_ID\"]==796][\"TITLE\"])"
      ],
      "execution_count": null,
      "outputs": [
        {
          "output_type": "execute_result",
          "data": {
            "text/plain": [
              "['STM Blazer Padded Sleeve, fits Most 15-Inch Screens - Black (stm-114-114P-01)',\n",
              " 'Gioiabazar MacBook Air 13 Case, Ultra Slim Plastic See Through Hard Shell Snap On Cover for MacBook Air 13.3 Inch',\n",
              " 'Theskinmantra Golden Circles Laptop Sleeve for Apple MacBook AIR and PRO 13 inch',\n",
              " 'Kmltail Top Open Portfolio Laptop Sleeve Bag Case Cover with accessories adapter pocket For Apple MacBook Air MMGG2HN/A 13-inch Laptop (Core i5/8GB/256GB/OS X El Capitan/Integrated Graphics), Silver - Blue',\n",
              " 'Alapmk Protective Case Cover for 14\" Lenovo Thinkpad X1 Yoga 1st Gen & 2nd Gen & 3rd Gen Series Laptop(Warning:Not fit Lenovo Thinkpad X1 Carbon Series Laptop),Love Tree',\n",
              " 'Robustrion Denim Series Laptop Carrying Case Sleeve Bag for MacBook Air 13 inch - Grey',\n",
              " 'iFyx MacBook Pro 15 Case 2018 2017 2016 Release A1990/A1707 Touch Bar Models, Plastic Hard Shell & Keyboard Cover Compatible Newest Mac Pro 15 Inch (Turquoise)',\n",
              " 'MOSISO MacBook Pro 13 inch Case 2019 2018 2017 2016 Release A2159 A1989 A1706 A1708, Plastic Hard Shell &Keyboard Cover &Screen Protector &Storage Bag Compatible with MacBook Pro 13, Frost',\n",
              " 'DEVZA 14inchLaptop Sleeve Drop-Proof, Waterproof Laptop Bag, Protective Case for Macbooks, Notebooks, or Ultrabooks, Slim with Handles',\n",
              " 'Robobull Designer Printed Laptop Sleeve for 11 Inch | 13 Inch | 14 Inch | 15 Inch Laptops (15-inch, Botanic World)']"
            ]
          },
          "metadata": {
            "tags": []
          },
          "execution_count": 156
        }
      ]
    },
    {
      "cell_type": "code",
      "metadata": {
        "colab": {
          "base_uri": "https://localhost:8080/"
        },
        "id": "J53Q2ganF1Wo",
        "outputId": "4d1687d8-bf86-4d31-c639-c69c903aa6d1"
      },
      "source": [
        "len(X_test)"
      ],
      "execution_count": null,
      "outputs": [
        {
          "output_type": "execute_result",
          "data": {
            "text/plain": [
              "684"
            ]
          },
          "metadata": {
            "tags": []
          },
          "execution_count": 166
        }
      ]
    },
    {
      "cell_type": "code",
      "metadata": {
        "colab": {
          "base_uri": "https://localhost:8080/",
          "height": 351
        },
        "id": "Jia-74mmG1e7",
        "outputId": "f2e2f884-1e71-4c84-89bb-999dfbc8f244"
      },
      "source": [
        "c=0\n",
        "y_true=list(Y_test[\"BROWSE_NODE_ID\"])\n",
        "label=list(label)\n",
        "for i in range(len(label)):\n",
        "  if label[i]==int(Y_test[\"BROWSE_NODE_ID\"][i]):\n",
        "    c+=1\n",
        "print(c/len(label))"
      ],
      "execution_count": null,
      "outputs": [
        {
          "output_type": "error",
          "ename": "ValueError",
          "evalue": "ignored",
          "traceback": [
            "\u001b[0;31m---------------------------------------------------------------------------\u001b[0m",
            "\u001b[0;31mValueError\u001b[0m                                Traceback (most recent call last)",
            "\u001b[0;32m<ipython-input-219-697e0341e53a>\u001b[0m in \u001b[0;36m<module>\u001b[0;34m()\u001b[0m\n\u001b[1;32m      3\u001b[0m \u001b[0mlabel\u001b[0m\u001b[0;34m=\u001b[0m\u001b[0mlist\u001b[0m\u001b[0;34m(\u001b[0m\u001b[0mlabel\u001b[0m\u001b[0;34m)\u001b[0m\u001b[0;34m\u001b[0m\u001b[0;34m\u001b[0m\u001b[0m\n\u001b[1;32m      4\u001b[0m \u001b[0;32mfor\u001b[0m \u001b[0mi\u001b[0m \u001b[0;32min\u001b[0m \u001b[0mrange\u001b[0m\u001b[0;34m(\u001b[0m\u001b[0mlen\u001b[0m\u001b[0;34m(\u001b[0m\u001b[0mlabel\u001b[0m\u001b[0;34m)\u001b[0m\u001b[0;34m)\u001b[0m\u001b[0;34m:\u001b[0m\u001b[0;34m\u001b[0m\u001b[0;34m\u001b[0m\u001b[0m\n\u001b[0;32m----> 5\u001b[0;31m   \u001b[0;32mif\u001b[0m \u001b[0mlabel\u001b[0m\u001b[0;34m[\u001b[0m\u001b[0mi\u001b[0m\u001b[0;34m]\u001b[0m\u001b[0;34m==\u001b[0m\u001b[0mint\u001b[0m\u001b[0;34m(\u001b[0m\u001b[0mY_test\u001b[0m\u001b[0;34m[\u001b[0m\u001b[0;34m\"BROWSE_NODE_ID\"\u001b[0m\u001b[0;34m]\u001b[0m\u001b[0;34m[\u001b[0m\u001b[0mi\u001b[0m\u001b[0;34m]\u001b[0m\u001b[0;34m)\u001b[0m\u001b[0;34m:\u001b[0m\u001b[0;34m\u001b[0m\u001b[0;34m\u001b[0m\u001b[0m\n\u001b[0m\u001b[1;32m      6\u001b[0m     \u001b[0mc\u001b[0m\u001b[0;34m+=\u001b[0m\u001b[0;36m1\u001b[0m\u001b[0;34m\u001b[0m\u001b[0;34m\u001b[0m\u001b[0m\n\u001b[1;32m      7\u001b[0m \u001b[0mprint\u001b[0m\u001b[0;34m(\u001b[0m\u001b[0mc\u001b[0m\u001b[0;34m/\u001b[0m\u001b[0mlen\u001b[0m\u001b[0;34m(\u001b[0m\u001b[0mlabel\u001b[0m\u001b[0;34m)\u001b[0m\u001b[0;34m)\u001b[0m\u001b[0;34m\u001b[0m\u001b[0;34m\u001b[0m\u001b[0m\n",
            "\u001b[0;32m/usr/local/lib/python3.7/dist-packages/pandas/core/generic.py\u001b[0m in \u001b[0;36m__nonzero__\u001b[0;34m(self)\u001b[0m\n\u001b[1;32m   1328\u001b[0m     \u001b[0;32mdef\u001b[0m \u001b[0m__nonzero__\u001b[0m\u001b[0;34m(\u001b[0m\u001b[0mself\u001b[0m\u001b[0;34m)\u001b[0m\u001b[0;34m:\u001b[0m\u001b[0;34m\u001b[0m\u001b[0;34m\u001b[0m\u001b[0m\n\u001b[1;32m   1329\u001b[0m         raise ValueError(\n\u001b[0;32m-> 1330\u001b[0;31m             \u001b[0;34mf\"The truth value of a {type(self).__name__} is ambiguous. \"\u001b[0m\u001b[0;34m\u001b[0m\u001b[0;34m\u001b[0m\u001b[0m\n\u001b[0m\u001b[1;32m   1331\u001b[0m             \u001b[0;34m\"Use a.empty, a.bool(), a.item(), a.any() or a.all().\"\u001b[0m\u001b[0;34m\u001b[0m\u001b[0;34m\u001b[0m\u001b[0m\n\u001b[1;32m   1332\u001b[0m         )\n",
            "\u001b[0;31mValueError\u001b[0m: The truth value of a Series is ambiguous. Use a.empty, a.bool(), a.item(), a.any() or a.all()."
          ]
        }
      ]
    },
    {
      "cell_type": "code",
      "metadata": {
        "colab": {
          "base_uri": "https://localhost:8080/"
        },
        "id": "korGCQ0sKVOA",
        "outputId": "a45ab8d2-a06e-44d7-acf6-680b3b69b438"
      },
      "source": [
        "print(type(int(Y_test[\"BROWSE_NODE_ID\"][100])))\n",
        "print(type(label[100]))"
      ],
      "execution_count": null,
      "outputs": [
        {
          "output_type": "stream",
          "text": [
            "<class 'int'>\n",
            "<class 'int'>\n"
          ],
          "name": "stdout"
        }
      ]
    },
    {
      "cell_type": "code",
      "metadata": {
        "colab": {
          "base_uri": "https://localhost:8080/"
        },
        "id": "4HXhcKLsKzjF",
        "outputId": "b3c6fc88-337e-4ef5-b55d-fa5ca0702f04"
      },
      "source": [
        "label[100]==Y_test[\"BROWSE_NODE_ID\"][100]"
      ],
      "execution_count": null,
      "outputs": [
        {
          "output_type": "execute_result",
          "data": {
            "text/plain": [
              "False"
            ]
          },
          "metadata": {
            "tags": []
          },
          "execution_count": 205
        }
      ]
    },
    {
      "cell_type": "code",
      "metadata": {
        "colab": {
          "base_uri": "https://localhost:8080/"
        },
        "id": "RU372YRkLHdT",
        "outputId": "ab23f09c-c123-4a98-9967-ddee2bd40426"
      },
      "source": [
        "type(label)"
      ],
      "execution_count": null,
      "outputs": [
        {
          "output_type": "execute_result",
          "data": {
            "text/plain": [
              "list"
            ]
          },
          "metadata": {
            "tags": []
          },
          "execution_count": 212
        }
      ]
    },
    {
      "cell_type": "code",
      "metadata": {
        "id": "6b9Kj1MvLyb_"
      },
      "source": [
        "test = pd.read_csv(os.path.join(main_folder_path,\"test.csv\"), encoding='utf-8',error_bad_lines=False, escapechar=\"\\\\\", quoting=csv.QUOTE_NONE)"
      ],
      "execution_count": null,
      "outputs": []
    },
    {
      "cell_type": "code",
      "metadata": {
        "colab": {
          "base_uri": "https://localhost:8080/",
          "height": 419
        },
        "id": "ZKoE2THBPWeM",
        "outputId": "362bb5cf-69f1-4cb0-9ac0-2b6459d6326f"
      },
      "source": [
        "test"
      ],
      "execution_count": null,
      "outputs": [
        {
          "output_type": "execute_result",
          "data": {
            "text/html": [
              "<div>\n",
              "<style scoped>\n",
              "    .dataframe tbody tr th:only-of-type {\n",
              "        vertical-align: middle;\n",
              "    }\n",
              "\n",
              "    .dataframe tbody tr th {\n",
              "        vertical-align: top;\n",
              "    }\n",
              "\n",
              "    .dataframe thead th {\n",
              "        text-align: right;\n",
              "    }\n",
              "</style>\n",
              "<table border=\"1\" class=\"dataframe\">\n",
              "  <thead>\n",
              "    <tr style=\"text-align: right;\">\n",
              "      <th></th>\n",
              "      <th>PRODUCT_ID</th>\n",
              "      <th>TITLE</th>\n",
              "      <th>DESCRIPTION</th>\n",
              "      <th>BULLET_POINTS</th>\n",
              "      <th>BRAND</th>\n",
              "    </tr>\n",
              "  </thead>\n",
              "  <tbody>\n",
              "    <tr>\n",
              "      <th>0</th>\n",
              "      <td>1</td>\n",
              "      <td>Command 3M Small Kitchen Hooks, White, Decorat...</td>\n",
              "      <td>Sale Unit: PACK</td>\n",
              "      <td>[INCLUDES - 9 hooks and 12 small indoor strips...</td>\n",
              "      <td>Command</td>\n",
              "    </tr>\n",
              "    <tr>\n",
              "      <th>1</th>\n",
              "      <td>2</td>\n",
              "      <td>O'Neal Jump Hardware JAG Unisex-Adult Glove (B...</td>\n",
              "      <td>Synthetic leather palm with double-layer thumb...</td>\n",
              "      <td>[Silicone printing for a better grip. Long las...</td>\n",
              "      <td>O'Neal</td>\n",
              "    </tr>\n",
              "    <tr>\n",
              "      <th>2</th>\n",
              "      <td>3</td>\n",
              "      <td>NFL Detroit Lions Portable Party Fridge, 15.8 ...</td>\n",
              "      <td>Boelter Brands lets you celebrate your favorit...</td>\n",
              "      <td>[Runs on 12 Volt DC Power or 110 Volt AC Power...</td>\n",
              "      <td>Boelter Brands</td>\n",
              "    </tr>\n",
              "    <tr>\n",
              "      <th>3</th>\n",
              "      <td>4</td>\n",
              "      <td>Panasonic Single Line KX-TS880MX Corded Phone ...</td>\n",
              "      <td>Features: 50 Station Phonebook Corded Phone Al...</td>\n",
              "      <td>Panasonic Landline Phones doesn't come with a ...</td>\n",
              "      <td>Panasonic</td>\n",
              "    </tr>\n",
              "    <tr>\n",
              "      <th>4</th>\n",
              "      <td>5</td>\n",
              "      <td>Zero Baby Girl's 100% Cotton Innerwear Bloomer...</td>\n",
              "      <td>Zero Baby Girl Panties Set. 100% Cotton, Breat...</td>\n",
              "      <td>[Zero Baby Girl Panties, Pack of 6, 100% Cotto...</td>\n",
              "      <td>Zero</td>\n",
              "    </tr>\n",
              "    <tr>\n",
              "      <th>...</th>\n",
              "      <td>...</td>\n",
              "      <td>...</td>\n",
              "      <td>...</td>\n",
              "      <td>...</td>\n",
              "      <td>...</td>\n",
              "    </tr>\n",
              "    <tr>\n",
              "      <th>110770</th>\n",
              "      <td>110771</td>\n",
              "      <td>AAHNA E MALL OneBlade Hybrid Trimmer Shaver An...</td>\n",
              "      <td>&lt;p&gt;1-All In One Hyper Advanced Smart Rechargea...</td>\n",
              "      <td>[Unique One Blade can style, trim and shave, w...</td>\n",
              "      <td>Generic</td>\n",
              "    </tr>\n",
              "    <tr>\n",
              "      <th>110771</th>\n",
              "      <td>110772</td>\n",
              "      <td>Grin Health N99 Anti Pollution Reusable Washab...</td>\n",
              "      <td>&lt;p&gt;SIZE GUIDE : M - (35- 65 Kg), L - (49- 72 K...</td>\n",
              "      <td>[PROTECTION: Filtration rate up to ≥99 percent...</td>\n",
              "      <td>Grin Health</td>\n",
              "    </tr>\n",
              "    <tr>\n",
              "      <th>110772</th>\n",
              "      <td>110773</td>\n",
              "      <td>Asian Army Pink Ultra reusable respirator clot...</td>\n",
              "      <td>Asian HyperProtect A95 masks have been enginee...</td>\n",
              "      <td>[Reusable and environment friendly: These mask...</td>\n",
              "      <td>ASIAN</td>\n",
              "    </tr>\n",
              "    <tr>\n",
              "      <th>110773</th>\n",
              "      <td>110774</td>\n",
              "      <td>IM Safe 3 Ply Non-Woven Disposable Surgical Fa...</td>\n",
              "      <td>This 3 Ply Disposable face mask is manufacture...</td>\n",
              "      <td>[3 Ply Mask: Genuine 3 Ply Mask. 25 GSM Spun B...</td>\n",
              "      <td>Intermarket</td>\n",
              "    </tr>\n",
              "    <tr>\n",
              "      <th>110774</th>\n",
              "      <td>110775</td>\n",
              "      <td>Artifie 100% Cotton Unisex Reusable Breathable...</td>\n",
              "      <td>Material : Cotton Printed, cotton thread, Soft...</td>\n",
              "      <td>[Eco Friendly, Reusable Cotton Masks for Face ...</td>\n",
              "      <td>Artifie</td>\n",
              "    </tr>\n",
              "  </tbody>\n",
              "</table>\n",
              "<p>110775 rows × 5 columns</p>\n",
              "</div>"
            ],
            "text/plain": [
              "        PRODUCT_ID  ...           BRAND\n",
              "0                1  ...         Command\n",
              "1                2  ...          O'Neal\n",
              "2                3  ...  Boelter Brands\n",
              "3                4  ...       Panasonic\n",
              "4                5  ...            Zero\n",
              "...            ...  ...             ...\n",
              "110770      110771  ...         Generic\n",
              "110771      110772  ...     Grin Health\n",
              "110772      110773  ...           ASIAN\n",
              "110773      110774  ...     Intermarket\n",
              "110774      110775  ...         Artifie\n",
              "\n",
              "[110775 rows x 5 columns]"
            ]
          },
          "metadata": {
            "tags": []
          },
          "execution_count": 221
        }
      ]
    },
    {
      "cell_type": "code",
      "metadata": {
        "id": "nNYNMAwkPn6G"
      },
      "source": [
        "label=[]\n",
        "for i in range(len(test)):\n",
        "  try:\n",
        "    k=test[\"TITLE\"][i].lower().split(\" \")\n",
        "  except:\n",
        "    label.append(df_sam[\"BROWSE_NODE_ID\"].mode())\n",
        "    continue\n",
        "  lt=[]\n",
        "  for j in df_sam[\"GOOD\"]:\n",
        "    if j in k and (j != \" \") and (j != \"\"):\n",
        "      lt.append(j)\n",
        "  from collections import Counter\n",
        "  data = Counter(lt)\n",
        "  mk=data.most_common()\n",
        "  if mk==[]:\n",
        "    label.append(df_sam[\"BROWSE_NODE_ID\"].mode())\n",
        "    continue\n",
        "  lst=list(df_sam[df_sam[\"GOOD\"]==mk[0][0]][\"BROWSE_NODE_ID\"])\n",
        "  mk=max(set(lst), key=lst.count)\n",
        "  label.append(mk)"
      ],
      "execution_count": null,
      "outputs": []
    },
    {
      "cell_type": "code",
      "metadata": {
        "colab": {
          "base_uri": "https://localhost:8080/"
        },
        "id": "6QevTlDKZ45A",
        "outputId": "cc7da4d3-4241-4f29-c51e-6819576911b4"
      },
      "source": [
        "len(test.index)-test.count()"
      ],
      "execution_count": null,
      "outputs": [
        {
          "output_type": "execute_result",
          "data": {
            "text/plain": [
              "PRODUCT_ID           0\n",
              "TITLE                7\n",
              "DESCRIPTION      10469\n",
              "BULLET_POINTS     6786\n",
              "BRAND             2430\n",
              "dtype: int64"
            ]
          },
          "metadata": {
            "tags": []
          },
          "execution_count": 227
        }
      ]
    },
    {
      "cell_type": "code",
      "metadata": {
        "id": "-uCJa221a31r"
      },
      "source": [
        "product_id=[]\n",
        "for i in range(len(label)):\n",
        "  product_id.append(i+1)"
      ],
      "execution_count": null,
      "outputs": []
    },
    {
      "cell_type": "code",
      "metadata": {
        "id": "tRhdB6FzaRQs"
      },
      "source": [
        "dff=pd.Dataframe([product_id,label],columns=[\"PRODUCT_ID\",\"BROWSE_NODE_ID\"])\n",
        "dff.to_csv(\"\")"
      ],
      "execution_count": null,
      "outputs": []
    }
  ]
}